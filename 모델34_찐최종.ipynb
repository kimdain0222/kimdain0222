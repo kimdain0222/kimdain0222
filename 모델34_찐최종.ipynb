{
  "cells": [
    {
      "cell_type": "markdown",
      "metadata": {
        "id": "view-in-github",
        "colab_type": "text"
      },
      "source": [
        "<a href=\"https://colab.research.google.com/github/kimdain0222/kimdain0222/blob/main/%EB%AA%A8%EB%8D%B834_%EC%B0%90%EC%B5%9C%EC%A2%85.ipynb\" target=\"_parent\"><img src=\"https://colab.research.google.com/assets/colab-badge.svg\" alt=\"Open In Colab\"/></a>"
      ]
    },
    {
      "cell_type": "markdown",
      "metadata": {
        "id": "6BlyDo21eF5j"
      },
      "source": [
        "# 1. Import"
      ]
    },
    {
      "cell_type": "code",
      "execution_count": 1,
      "metadata": {
        "colab": {
          "base_uri": "https://localhost:8080/"
        },
        "id": "S5F7CmREeI6H",
        "outputId": "14156424-fc34-4c2d-b300-35dc43b276d3"
      },
      "outputs": [
        {
          "output_type": "stream",
          "name": "stdout",
          "text": [
            "/kaggle/input/mimiciii\n"
          ]
        }
      ],
      "source": [
        "import pandas as pd\n",
        "from sklearn.model_selection import KFold\n",
        "from sklearn.linear_model import LogisticRegression\n",
        "from sklearn.tree import DecisionTreeClassifier\n",
        "from sklearn.ensemble import RandomForestClassifier\n",
        "from xgboost import XGBClassifier\n",
        "from sklearn.naive_bayes import GaussianNB\n",
        "import lightgbm as lgb\n",
        "from sklearn.model_selection import cross_val_score\n",
        "from sklearn.metrics import roc_auc_score, confusion_matrix, classification_report, f1_score\n",
        "import numpy as np\n",
        "import time\n",
        "import warnings\n",
        "warnings.filterwarnings('ignore')\n",
        "import kagglehub\n",
        "path = kagglehub.dataset_download(\"asjad99/mimiciii\")\n",
        "print(path)\n",
        "import torch\n",
        "import torch.nn as nn\n",
        "import torch.optim as optim\n",
        "from torch.utils.data import DataLoader, TensorDataset\n",
        "from sklearn.model_selection import train_test_split\n",
        "import numpy as np\n",
        "from sklearn.preprocessing import LabelEncoder\n",
        "from sklearn.metrics import accuracy_score, f1_score, roc_curve, roc_auc_score\n",
        "import matplotlib.pyplot as plt\n"
      ]
    },
    {
      "cell_type": "code",
      "execution_count": 2,
      "metadata": {
        "id": "jXx-EW_LvFqj"
      },
      "outputs": [],
      "source": [
        "#!pip install --upgrade --force-reinstall torch torchvision torchaudio"
      ]
    },
    {
      "cell_type": "code",
      "execution_count": 3,
      "metadata": {
        "id": "Y33TQb-VeMyS"
      },
      "outputs": [],
      "source": [
        "df_PATIENTS = pd.read_csv('/kaggle/input/mimiciii/mimic-iii-clinical-database-demo-1.4/PATIENTS.csv')\n",
        "df_CHARTEVENTS = pd.read_csv('/kaggle/input/mimiciii/mimic-iii-clinical-database-demo-1.4/CHARTEVENTS.csv')\n",
        "df_ADMISSIONS = pd.read_csv('/kaggle/input/mimiciii/mimic-iii-clinical-database-demo-1.4/ADMISSIONS.csv')\n",
        "df_D_ITEMS = pd.read_csv('/kaggle/input/mimiciii/mimic-iii-clinical-database-demo-1.4/D_ITEMS.csv')\n",
        "\n",
        "df_ADMISSIONS = df_ADMISSIONS[df_ADMISSIONS['subject_id'] != 10120]\n",
        "df_PATIENTS = df_PATIENTS[df_PATIENTS['subject_id'] != 10120]\n",
        "\n",
        "df_PATIENTS = df_PATIENTS.loc[:,['subject_id','gender']]"
      ]
    },
    {
      "cell_type": "markdown",
      "metadata": {
        "id": "OVbBvCEwePer"
      },
      "source": [
        "# 2. 전처리\n"
      ]
    },
    {
      "cell_type": "code",
      "execution_count": 4,
      "metadata": {
        "id": "7tLViPFGeWyG",
        "colab": {
          "base_uri": "https://localhost:8080/",
          "height": 397
        },
        "outputId": "5a84d93e-8b29-4780-b432-b6050ac3f2e5"
      },
      "outputs": [
        {
          "output_type": "execute_result",
          "data": {
            "text/plain": [
              "subject_id                                  10011\n",
              "gender                                          F\n",
              "admission_type                          EMERGENCY\n",
              "admission_location      TRANSFER FROM HOSP/EXTRAM\n",
              "discharge_location                   DEAD/EXPIRED\n",
              "insurance                                 Private\n",
              "marital_status                             SINGLE\n",
              "ethnicity                   UNKNOWN/NOT SPECIFIED\n",
              "diagnosis                             HEPATITIS B\n",
              "hospital_expire_flag                            1\n",
              "Name: 1, dtype: object"
            ],
            "text/html": [
              "<div>\n",
              "<style scoped>\n",
              "    .dataframe tbody tr th:only-of-type {\n",
              "        vertical-align: middle;\n",
              "    }\n",
              "\n",
              "    .dataframe tbody tr th {\n",
              "        vertical-align: top;\n",
              "    }\n",
              "\n",
              "    .dataframe thead th {\n",
              "        text-align: right;\n",
              "    }\n",
              "</style>\n",
              "<table border=\"1\" class=\"dataframe\">\n",
              "  <thead>\n",
              "    <tr style=\"text-align: right;\">\n",
              "      <th></th>\n",
              "      <th>1</th>\n",
              "    </tr>\n",
              "  </thead>\n",
              "  <tbody>\n",
              "    <tr>\n",
              "      <th>subject_id</th>\n",
              "      <td>10011</td>\n",
              "    </tr>\n",
              "    <tr>\n",
              "      <th>gender</th>\n",
              "      <td>F</td>\n",
              "    </tr>\n",
              "    <tr>\n",
              "      <th>admission_type</th>\n",
              "      <td>EMERGENCY</td>\n",
              "    </tr>\n",
              "    <tr>\n",
              "      <th>admission_location</th>\n",
              "      <td>TRANSFER FROM HOSP/EXTRAM</td>\n",
              "    </tr>\n",
              "    <tr>\n",
              "      <th>discharge_location</th>\n",
              "      <td>DEAD/EXPIRED</td>\n",
              "    </tr>\n",
              "    <tr>\n",
              "      <th>insurance</th>\n",
              "      <td>Private</td>\n",
              "    </tr>\n",
              "    <tr>\n",
              "      <th>marital_status</th>\n",
              "      <td>SINGLE</td>\n",
              "    </tr>\n",
              "    <tr>\n",
              "      <th>ethnicity</th>\n",
              "      <td>UNKNOWN/NOT SPECIFIED</td>\n",
              "    </tr>\n",
              "    <tr>\n",
              "      <th>diagnosis</th>\n",
              "      <td>HEPATITIS B</td>\n",
              "    </tr>\n",
              "    <tr>\n",
              "      <th>hospital_expire_flag</th>\n",
              "      <td>1</td>\n",
              "    </tr>\n",
              "  </tbody>\n",
              "</table>\n",
              "</div><br><label><b>dtype:</b> object</label>"
            ]
          },
          "metadata": {},
          "execution_count": 4
        }
      ],
      "source": [
        "df_ADMISSIONS_flag = df_ADMISSIONS.loc[:,['subject_id','hospital_expire_flag']]\n",
        "df_ADMISSIONS_select = df_ADMISSIONS.loc[:,['subject_id','admission_type','admission_location','discharge_location',\n",
        "                     'insurance','marital_status','ethnicity','diagnosis','hospital_expire_flag']]\n",
        "df_ADMISSIONS_select_s = pd.merge(df_PATIENTS, df_ADMISSIONS_select, on='subject_id', how='left')\n",
        "df_ADMISSIONS_select_s[df_ADMISSIONS_select_s['hospital_expire_flag'] == 1].iloc[0]"
      ]
    },
    {
      "cell_type": "markdown",
      "metadata": {
        "id": "E9yTAI70ecqb"
      },
      "source": [
        "# 3. 모델\n"
      ]
    },
    {
      "cell_type": "markdown",
      "source": [
        "## 3-1 모든 변수"
      ],
      "metadata": {
        "id": "zAEYLQEjyOLa"
      }
    },
    {
      "cell_type": "code",
      "source": [
        "import torchvision.models as models\n",
        "\n",
        "# 정적 컬럼 지정\n",
        "static_cols = [\n",
        "    'gender', 'admission_type', 'admission_location', 'discharge_location',\n",
        "    'insurance', 'marital_status', 'ethnicity'\n",
        "]\n",
        "target_col = 'hospital_expire_flag'\n",
        "\n",
        "# 원본 정적 데이터\n",
        "df_static = df_ADMISSIONS_select_s[static_cols + [target_col]].copy()\n",
        "\n",
        "# NaN 처리\n",
        "df_static[static_cols] = df_static[static_cols].fillna('UNKNOWN')\n",
        "\n",
        "# ✅ One-hot encoding\n",
        "df_static_encoded = pd.get_dummies(df_static, columns=static_cols)\n",
        "\n",
        "# 입력과 타겟 분리\n",
        "X = df_static_encoded.drop(columns=[target_col]).values\n",
        "y = df_static_encoded[target_col].values\n",
        "\n",
        "# CNN 입력 형태로 reshape (3, 4, 4)\n",
        "num_features = X.shape[1]\n",
        "side_len = int(np.ceil(np.sqrt(num_features)))\n",
        "pad_len = side_len ** 2 - num_features\n",
        "X_padded = np.pad(X, ((0, 0), (0, pad_len)), mode='constant')\n",
        "X_cnn = X_padded.reshape(-1, 1, side_len, side_len)  # (N, 1, H, W)\n",
        "X_cnn = np.repeat(X_cnn, 3, axis=1)  # ResNet expects 3 channels\n",
        "\n",
        "# Tensor로 변환\n",
        "X_tensor = torch.tensor(X_cnn, dtype=torch.float32)\n",
        "y_tensor = torch.tensor(y, dtype=torch.float32).unsqueeze(1)\n",
        "\n",
        "# Train/Val Split\n",
        "X_train, X_val, y_train, y_val = train_test_split(X_tensor, y_tensor, test_size=0.2, random_state=42)\n",
        "\n",
        "# ResNet 모델\n",
        "model = models.resnet34(pretrained=False)\n",
        "model.fc = nn.Sequential(\n",
        "    nn.Linear(model.fc.in_features, 1),\n",
        "    nn.Sigmoid()\n",
        ")"
      ],
      "metadata": {
        "id": "qyqIPVNWR6jO"
      },
      "execution_count": 5,
      "outputs": []
    },
    {
      "cell_type": "code",
      "execution_count": 6,
      "metadata": {
        "colab": {
          "base_uri": "https://localhost:8080/",
          "height": 966
        },
        "id": "f3sC4G4NxUPT",
        "outputId": "0d5a1f44-3e30-43a1-ff2b-2b331e1d1f10"
      },
      "outputs": [
        {
          "output_type": "stream",
          "name": "stdout",
          "text": [
            "Epoch 1 | Train Loss: 0.7530\n",
            "Epoch 2 | Train Loss: 0.6884\n",
            "Epoch 3 | Train Loss: 0.3571\n",
            "Epoch 4 | Train Loss: 0.5941\n",
            "Epoch 5 | Train Loss: 0.3642\n",
            "Epoch 6 | Train Loss: 0.3029\n",
            "Epoch 7 | Train Loss: 0.1480\n",
            "Epoch 8 | Train Loss: 0.2023\n",
            "Epoch 9 | Train Loss: 0.1374\n",
            "Epoch 10 | Train Loss: 0.0749\n",
            "Epoch 11 | Train Loss: 0.0605\n",
            "Epoch 12 | Train Loss: 0.1030\n",
            "Epoch 13 | Train Loss: 0.0622\n",
            "Epoch 14 | Train Loss: 0.2514\n",
            "Epoch 15 | Train Loss: 0.0978\n",
            "Epoch 16 | Train Loss: 0.2676\n",
            "Epoch 17 | Train Loss: 0.0833\n",
            "Epoch 18 | Train Loss: 0.0901\n",
            "Epoch 19 | Train Loss: 0.1944\n",
            "Epoch 20 | Train Loss: 0.1525\n"
          ]
        },
        {
          "output_type": "display_data",
          "data": {
            "text/plain": [
              "<Figure size 600x600 with 1 Axes>"
            ],
            "image/png": "[encoded data removed]"
          },
          "metadata": {}
        },
        {
          "output_type": "stream",
          "name": "stdout",
          "text": [
            "✅ Accuracy: 0.9231\n",
            "✅ F1 Score: 0.8571\n"
          ]
        }
      ],
      "source": [
        "train_loader = DataLoader(TensorDataset(X_train, y_train), batch_size=16, shuffle=True)\n",
        "val_loader = DataLoader(TensorDataset(X_val, y_val), batch_size=16)\n",
        "\n",
        "criterion = nn.BCELoss()\n",
        "optimizer = optim.Adam(model.parameters(), lr=0.001)\n",
        "\n",
        "# 학습 루프\n",
        "for epoch in range(20):\n",
        "    model.train()\n",
        "    train_loss = 0\n",
        "    for xb, yb in train_loader:\n",
        "        optimizer.zero_grad()\n",
        "        pred = model(xb)\n",
        "        loss = criterion(pred, yb)\n",
        "        loss.backward()\n",
        "        optimizer.step()\n",
        "        train_loss += loss.item()\n",
        "    print(f\"Epoch {epoch+1} | Train Loss: {train_loss / len(train_loader):.4f}\")\n",
        "\n",
        "# 검증 데이터로 예측\n",
        "model.eval()\n",
        "with torch.no_grad():\n",
        "    y_pred = model(X_val).numpy()  # 예측 확률\n",
        "    y_true = y_val.numpy()         # 실제 정답\n",
        "    y_pred_label = (y_pred > 0.5).astype(int)  # 확률 → 0 또는 1\n",
        "\n",
        "# 평가 지표 출력\n",
        "acc = accuracy_score(y_true, y_pred_label)\n",
        "f1 = f1_score(y_true, y_pred_label)\n",
        "\n",
        "model.eval()\n",
        "with torch.no_grad():\n",
        "    y_pred = model(X_val).numpy()\n",
        "    y_true = y_val.numpy()\n",
        "    y_pred_label = (y_pred > 0.5).astype(int)\n",
        "\n",
        "# ROC Curve\n",
        "fpr, tpr, thresholds = roc_curve(y_true, y_pred)\n",
        "auc = roc_auc_score(y_true, y_pred)\n",
        "\n",
        "plt.figure(figsize=(6, 6))\n",
        "plt.plot(fpr, tpr, label=f\"AUC = {auc:.4f}\")\n",
        "plt.plot([0, 1], [0, 1], linestyle='--', color='gray')\n",
        "plt.xlabel(\"False Positive Rate\")\n",
        "plt.ylabel(\"True Positive Rate\")\n",
        "plt.title(\"ROC Curve\")\n",
        "plt.legend()\n",
        "plt.grid(True)\n",
        "plt.show()\n",
        "\n",
        "print(f\"✅ Accuracy: {acc:.4f}\")\n",
        "print(f\"✅ F1 Score: {f1:.4f}\")"
      ]
    },
    {
      "cell_type": "markdown",
      "source": [
        "# 3-2 퇴원장소 뺴기"
      ],
      "metadata": {
        "id": "m7_o0lxxSCML"
      }
    },
    {
      "cell_type": "code",
      "source": [
        "import torchvision.models as models\n",
        "\n",
        "# 정적 컬럼 지정\n",
        "static_cols = [\n",
        "    'gender', 'admission_type', 'admission_location',\n",
        "    'insurance', 'marital_status', 'ethnicity'\n",
        "]\n",
        "target_col = 'hospital_expire_flag'\n",
        "\n",
        "# 원본 정적 데이터\n",
        "df_static = df_ADMISSIONS_select_s[static_cols + [target_col]].copy()\n",
        "\n",
        "# NaN 처리\n",
        "df_static[static_cols] = df_static[static_cols].fillna('UNKNOWN')\n",
        "\n",
        "# ✅ One-hot encoding\n",
        "df_static_encoded = pd.get_dummies(df_static, columns=static_cols)\n",
        "\n",
        "# 입력과 타겟 분리\n",
        "X = df_static_encoded.drop(columns=[target_col]).values\n",
        "y = df_static_encoded[target_col].values\n",
        "\n",
        "# CNN 입력 형태로 reshape (3, 4, 4)\n",
        "num_features = X.shape[1]\n",
        "side_len = int(np.ceil(np.sqrt(num_features)))\n",
        "pad_len = side_len ** 2 - num_features\n",
        "X_padded = np.pad(X, ((0, 0), (0, pad_len)), mode='constant')\n",
        "X_cnn = X_padded.reshape(-1, 1, side_len, side_len)  # (N, 1, H, W)\n",
        "X_cnn = np.repeat(X_cnn, 3, axis=1)  # ResNet expects 3 channels\n",
        "\n",
        "# Tensor로 변환\n",
        "X_tensor = torch.tensor(X_cnn, dtype=torch.float32)\n",
        "y_tensor = torch.tensor(y, dtype=torch.float32).unsqueeze(1)\n",
        "\n",
        "# Train/Val Split\n",
        "X_train, X_val, y_train, y_val = train_test_split(X_tensor, y_tensor, test_size=0.2, random_state=42)\n",
        "\n",
        "# ResNet 모델\n",
        "model = models.resnet34(pretrained=False)\n",
        "model.fc = nn.Sequential(\n",
        "    nn.Linear(model.fc.in_features, 1),\n",
        "    nn.Sigmoid()\n",
        ")"
      ],
      "metadata": {
        "id": "n193DXyLR_p9"
      },
      "execution_count": 7,
      "outputs": []
    },
    {
      "cell_type": "code",
      "source": [
        "train_loader = DataLoader(TensorDataset(X_train, y_train), batch_size=16, shuffle=True)\n",
        "val_loader = DataLoader(TensorDataset(X_val, y_val), batch_size=16)\n",
        "\n",
        "criterion = nn.BCELoss()\n",
        "optimizer = optim.Adam(model.parameters(), lr=0.001)\n",
        "\n",
        "# 학습 루프\n",
        "for epoch in range(20):\n",
        "    model.train()\n",
        "    train_loss = 0\n",
        "    for xb, yb in train_loader:\n",
        "        optimizer.zero_grad()\n",
        "        pred = model(xb)\n",
        "        loss = criterion(pred, yb)\n",
        "        loss.backward()\n",
        "        optimizer.step()\n",
        "        train_loss += loss.item()\n",
        "    print(f\"Epoch {epoch+1} | Train Loss: {train_loss / len(train_loader):.4f}\")\n",
        "\n",
        "# 검증 데이터로 예측\n",
        "model.eval()\n",
        "with torch.no_grad():\n",
        "    y_pred = model(X_val).numpy()  # 예측 확률\n",
        "    y_true = y_val.numpy()         # 실제 정답\n",
        "    y_pred_label = (y_pred > 0.5).astype(int)  # 확률 → 0 또는 1\n",
        "\n",
        "# 평가 지표 출력\n",
        "acc = accuracy_score(y_true, y_pred_label)\n",
        "f1 = f1_score(y_true, y_pred_label)\n",
        "\n",
        "model.eval()\n",
        "with torch.no_grad():\n",
        "    y_pred = model(X_val).numpy()\n",
        "    y_true = y_val.numpy()\n",
        "    y_pred_label = (y_pred > 0.5).astype(int)\n",
        "\n",
        "# ROC Curve\n",
        "fpr, tpr, thresholds = roc_curve(y_true, y_pred)\n",
        "auc = roc_auc_score(y_true, y_pred)\n",
        "\n",
        "plt.figure(figsize=(6, 6))\n",
        "plt.plot(fpr, tpr, label=f\"AUC = {auc:.4f}\")\n",
        "plt.plot([0, 1], [0, 1], linestyle='--', color='gray')\n",
        "plt.xlabel(\"False Positive Rate\")\n",
        "plt.ylabel(\"True Positive Rate\")\n",
        "plt.title(\"ROC Curve\")\n",
        "plt.legend()\n",
        "plt.grid(True)\n",
        "plt.show()\n",
        "\n",
        "print(f\"✅ Accuracy: {acc:.4f}\")\n",
        "print(f\"✅ F1 Score: {f1:.4f}\")"
      ],
      "metadata": {
        "colab": {
          "base_uri": "https://localhost:8080/",
          "height": 966
        },
        "id": "g2IhBSUER_t8",
        "outputId": "4d78f5b8-3a92-4610-86b6-20fff83e265c"
      },
      "execution_count": 8,
      "outputs": [
        {
          "output_type": "stream",
          "name": "stdout",
          "text": [
            "Epoch 1 | Train Loss: 0.9291\n",
            "Epoch 2 | Train Loss: 0.9864\n",
            "Epoch 3 | Train Loss: 1.0363\n",
            "Epoch 4 | Train Loss: 0.7379\n",
            "Epoch 5 | Train Loss: 0.6355\n",
            "Epoch 6 | Train Loss: 0.5483\n",
            "Epoch 7 | Train Loss: 0.6018\n",
            "Epoch 8 | Train Loss: 0.5629\n",
            "Epoch 9 | Train Loss: 0.6162\n",
            "Epoch 10 | Train Loss: 0.5556\n",
            "Epoch 11 | Train Loss: 0.5109\n",
            "Epoch 12 | Train Loss: 0.6207\n",
            "Epoch 13 | Train Loss: 0.4932\n",
            "Epoch 14 | Train Loss: 0.6096\n",
            "Epoch 15 | Train Loss: 0.5740\n",
            "Epoch 16 | Train Loss: 0.5216\n",
            "Epoch 17 | Train Loss: 0.5655\n",
            "Epoch 18 | Train Loss: 0.4980\n",
            "Epoch 19 | Train Loss: 0.6494\n",
            "Epoch 20 | Train Loss: 0.5329\n"
          ]
        },
        {
          "output_type": "display_data",
          "data": {
            "text/plain": [
              "<Figure size 600x600 with 1 Axes>"
            ],
            "image/png": "[encoded data removed]"
          },
          "metadata": {}
        },
        {
          "output_type": "stream",
          "name": "stdout",
          "text": [
            "✅ Accuracy: 0.6538\n",
            "✅ F1 Score: 0.3077\n"
          ]
        }
      ]
    },
    {
      "cell_type": "markdown",
      "source": [
        "# 3-3 gender 제외\n"
      ],
      "metadata": {
        "id": "cFjdcvnoU_DF"
      }
    },
    {
      "cell_type": "code",
      "source": [
        "import torchvision.models as models\n",
        "\n",
        "# 정적 컬럼 지정\n",
        "static_cols = [\n",
        "    'gender', 'admission_type', 'admission_location', 'discharge_location',\n",
        "    'insurance', 'marital_status', 'ethnicity'\n",
        "]\n",
        "target_col = 'hospital_expire_flag'\n",
        "\n",
        "# 원본 정적 데이터\n",
        "df_static = df_ADMISSIONS_select_s[static_cols + [target_col]].copy()\n",
        "\n",
        "# NaN 처리\n",
        "df_static[static_cols] = df_static[static_cols].fillna('UNKNOWN')\n",
        "\n",
        "# ✅ One-hot encoding\n",
        "df_static_encoded = pd.get_dummies(df_static, columns=static_cols)\n",
        "\n",
        "# 입력과 타겟 분리\n",
        "X = df_static_encoded.drop(columns=[target_col]).values\n",
        "y = df_static_encoded[target_col].values\n",
        "\n",
        "# CNN 입력 형태로 reshape (3, 4, 4)\n",
        "num_features = X.shape[1]\n",
        "side_len = int(np.ceil(np.sqrt(num_features)))\n",
        "pad_len = side_len ** 2 - num_features\n",
        "X_padded = np.pad(X, ((0, 0), (0, pad_len)), mode='constant')\n",
        "X_cnn = X_padded.reshape(-1, 1, side_len, side_len)  # (N, 1, H, W)\n",
        "X_cnn = np.repeat(X_cnn, 3, axis=1)  # ResNet expects 3 channels\n",
        "\n",
        "# Tensor로 변환\n",
        "X_tensor = torch.tensor(X_cnn, dtype=torch.float32)\n",
        "y_tensor = torch.tensor(y, dtype=torch.float32).unsqueeze(1)\n",
        "\n",
        "# Train/Val Split\n",
        "X_train, X_val, y_train, y_val = train_test_split(X_tensor, y_tensor, test_size=0.2, random_state=42)\n",
        "\n",
        "# ResNet 모델\n",
        "model = models.resnet34(pretrained=False)\n",
        "model.fc = nn.Sequential(\n",
        "    nn.Linear(model.fc.in_features, 1),\n",
        "    nn.Sigmoid()\n",
        ")"
      ],
      "metadata": {
        "id": "7MFHaOQ7R_x4"
      },
      "execution_count": 15,
      "outputs": []
    },
    {
      "cell_type": "code",
      "source": [
        "train_loader = DataLoader(TensorDataset(X_train, y_train), batch_size=16, shuffle=True)\n",
        "val_loader = DataLoader(TensorDataset(X_val, y_val), batch_size=16)\n",
        "\n",
        "criterion = nn.BCELoss()\n",
        "optimizer = optim.Adam(model.parameters(), lr=0.001)\n",
        "\n",
        "# 학습 루프\n",
        "for epoch in range(20):\n",
        "    model.train()\n",
        "    train_loss = 0\n",
        "    for xb, yb in train_loader:\n",
        "        optimizer.zero_grad()\n",
        "        pred = model(xb)\n",
        "        loss = criterion(pred, yb)\n",
        "        loss.backward()\n",
        "        optimizer.step()\n",
        "        train_loss += loss.item()\n",
        "    print(f\"Epoch {epoch+1} | Train Loss: {train_loss / len(train_loader):.4f}\")\n",
        "\n",
        "# 검증 데이터로 예측\n",
        "model.eval()\n",
        "with torch.no_grad():\n",
        "    y_pred = model(X_val).numpy()  # 예측 확률\n",
        "    y_true = y_val.numpy()         # 실제 정답\n",
        "    y_pred_label = (y_pred > 0.5).astype(int)  # 확률 → 0 또는 1\n",
        "\n",
        "# 평가 지표 출력\n",
        "acc = accuracy_score(y_true, y_pred_label)\n",
        "f1 = f1_score(y_true, y_pred_label)\n",
        "\n",
        "model.eval()\n",
        "with torch.no_grad():\n",
        "    y_pred = model(X_val).numpy()\n",
        "    y_true = y_val.numpy()\n",
        "    y_pred_label = (y_pred > 0.5).astype(int)\n",
        "\n",
        "# ROC Curve\n",
        "fpr, tpr, thresholds = roc_curve(y_true, y_pred)\n",
        "auc = roc_auc_score(y_true, y_pred)\n",
        "\n",
        "plt.figure(figsize=(6, 6))\n",
        "plt.plot(fpr, tpr, label=f\"AUC = {auc:.4f}\")\n",
        "plt.plot([0, 1], [0, 1], linestyle='--', color='gray')\n",
        "plt.xlabel(\"False Positive Rate\")\n",
        "plt.ylabel(\"True Positive Rate\")\n",
        "plt.title(\"ROC Curve\")\n",
        "plt.legend()\n",
        "plt.grid(True)\n",
        "plt.show()\n",
        "\n",
        "print(f\"✅ Accuracy: {acc:.4f}\")\n",
        "print(f\"✅ F1 Score: {f1:.4f}\")"
      ],
      "metadata": {
        "colab": {
          "base_uri": "https://localhost:8080/",
          "height": 966
        },
        "id": "U9aKx1NFR_1Y",
        "outputId": "389f63c1-0fe6-49ba-a532-d2d2ce0406e7"
      },
      "execution_count": 16,
      "outputs": [
        {
          "output_type": "stream",
          "name": "stdout",
          "text": [
            "Epoch 1 | Train Loss: 0.7598\n",
            "Epoch 2 | Train Loss: 0.6873\n",
            "Epoch 3 | Train Loss: 0.5852\n",
            "Epoch 4 | Train Loss: 0.3615\n",
            "Epoch 5 | Train Loss: 0.2252\n",
            "Epoch 6 | Train Loss: 0.1740\n",
            "Epoch 7 | Train Loss: 0.0233\n",
            "Epoch 8 | Train Loss: 0.1047\n",
            "Epoch 9 | Train Loss: 0.2071\n",
            "Epoch 10 | Train Loss: 0.1081\n",
            "Epoch 11 | Train Loss: 0.3371\n",
            "Epoch 12 | Train Loss: 0.1926\n",
            "Epoch 13 | Train Loss: 0.2745\n",
            "Epoch 14 | Train Loss: 0.0943\n",
            "Epoch 15 | Train Loss: 0.0318\n",
            "Epoch 16 | Train Loss: 0.1378\n",
            "Epoch 17 | Train Loss: 0.1814\n",
            "Epoch 18 | Train Loss: 0.0671\n",
            "Epoch 19 | Train Loss: 0.2789\n",
            "Epoch 20 | Train Loss: 0.0659\n"
          ]
        },
        {
          "output_type": "display_data",
          "data": {
            "text/plain": [
              "<Figure size 600x600 with 1 Axes>"
            ],
            "image/png": "[encoded data removed]"
          },
          "metadata": {}
        },
        {
          "output_type": "stream",
          "name": "stdout",
          "text": [
            "✅ Accuracy: 1.0000\n",
            "✅ F1 Score: 1.0000\n"
          ]
        }
      ]
    },
    {
      "cell_type": "code",
      "source": [
        "\n"
      ],
      "metadata": {
        "id": "rpTVrwr9VJK0"
      },
      "execution_count": 10,
      "outputs": []
    },
    {
      "cell_type": "code",
      "source": [],
      "metadata": {
        "id": "Zl1Lv5zoVJOL"
      },
      "execution_count": 10,
      "outputs": []
    },
    {
      "cell_type": "code",
      "source": [],
      "metadata": {
        "id": "WkgS_QiqVJRz"
      },
      "execution_count": 10,
      "outputs": []
    },
    {
      "cell_type": "code",
      "source": [
        "X_cnn[0,:,:,:][0].astype(np.float32)"
      ],
      "metadata": {
        "colab": {
          "base_uri": "https://localhost:8080/"
        },
        "id": "pTybUSkXDPjv",
        "outputId": "659ab0cf-3d31-4c82-fdfb-14a5a486eb83"
      },
      "execution_count": 11,
      "outputs": [
        {
          "output_type": "execute_result",
          "data": {
            "text/plain": [
              "array([[1., 0., 0., 1., 0., 0., 1.],\n",
              "       [0., 0., 0., 0., 0., 0., 1.],\n",
              "       [0., 0., 0., 0., 0., 0., 0.],\n",
              "       [0., 1., 0., 0., 0., 1., 0.],\n",
              "       [0., 0., 0., 0., 0., 1., 0.],\n",
              "       [0., 0., 0., 0., 0., 0., 0.],\n",
              "       [0., 0., 0., 0., 0., 0., 0.]], dtype=float32)"
            ]
          },
          "metadata": {},
          "execution_count": 11
        }
      ]
    },
    {
      "cell_type": "code",
      "source": [
        "def plot_cnn_inputs_with_labels(X_cnn, y_pred, y_true):\n",
        "    images = X_cnn[:16]\n",
        "    preds = y_pred[:16]\n",
        "    trues = y_true[:16]\n",
        "\n",
        "    fig, axes = plt.subplots(4, 4, figsize=(10, 10))\n",
        "    fig.suptitle(\"First 16 Encoded EHR Samples with Predictions and True Labels\", fontsize=16)\n",
        "\n",
        "    for i, ax in enumerate(axes.flat):\n",
        "        img = images[i].astype(np.float32)\n",
        "        img /= (np.max(img) + 1e-8)\n",
        "        ax.imshow(np.transpose(img, (1, 2, 0)), interpolation='nearest')\n",
        "        ax.axis(\"off\")\n",
        "\n",
        "        ax.set_title(f\"Pred: {int(preds[i])} / True: {int(trues[i])}\", fontsize=10, pad=5)\n",
        "\n",
        "    plt.tight_layout()\n",
        "    plt.subplots_adjust(top=0.90)\n",
        "    plt.show()\n",
        "\n",
        "plot_cnn_inputs_with_labels(X_cnn,y_pred_label,y_true)"
      ],
      "metadata": {
        "colab": {
          "base_uri": "https://localhost:8080/",
          "height": 1000
        },
        "id": "EE2lrDW1Ib7Q",
        "outputId": "f5ac3b60-ac4d-418f-aa70-0996993885f7"
      },
      "execution_count": 12,
      "outputs": [
        {
          "output_type": "display_data",
          "data": {
            "text/plain": [
              "<Figure size 1000x1000 with 16 Axes>"
            ],
            "image/png": "[encoded data removed]"
          },
          "metadata": {}
        }
      ]
    },
    {
      "cell_type": "code",
      "source": [],
      "metadata": {
        "id": "QD6q2bT7IcDm"
      },
      "execution_count": 12,
      "outputs": []
    },
    {
      "cell_type": "code",
      "source": [],
      "metadata": {
        "id": "MVb6I2eyIcIV"
      },
      "execution_count": 12,
      "outputs": []
    }
  ],
  "metadata": {
    "colab": {
      "provenance": [],
      "include_colab_link": true
    },
    "kernelspec": {
      "display_name": "Python 3",
      "name": "python3"
    },
    "language_info": {
      "name": "python"
    }
  },
  "nbformat": 4,
  "nbformat_minor": 0
}